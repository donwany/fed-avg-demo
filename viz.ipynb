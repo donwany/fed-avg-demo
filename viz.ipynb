{
 "cells": [
  {
   "cell_type": "code",
   "execution_count": 11,
   "id": "3f82c9df-78fb-4640-898f-ce9bcb1f61d1",
   "metadata": {
    "tags": []
   },
   "outputs": [],
   "source": [
    "import pandas as pd\n",
    "import seaborn as sns\n",
    "import matplotlib.pyplot as plt"
   ]
  },
  {
   "cell_type": "code",
   "execution_count": 17,
   "id": "2f1aaf5b-3c2d-401f-8ccb-5ae725e73495",
   "metadata": {
    "tags": []
   },
   "outputs": [],
   "source": [
    "df_iid10e1 = pd.read_csv('sim_data/b10e1.csv')\n",
    "df_iid10e5 = pd.read_csv('sim_data/b10e5.csv')\n",
    "df_iid10e20 = pd.read_csv('sim_data/b10e20.csv')\n",
    "\n",
    "df_iid50e1 = pd.read_csv('sim_data/b50e1.csv')\n",
    "df_iid50e5 = pd.read_csv('sim_data/b50e5.csv')\n",
    "df_iid50e20 = pd.read_csv('sim_data/b50e20.csv')\n",
    "\n",
    "df_iid600e1 = pd.read_csv('sim_data/b600e1.csv')\n",
    "df_iid600e5 = pd.read_csv('sim_data/b600e5.csv')\n",
    "df_iid600e20 = pd.read_csv('sim_data/b600e20.csv')"
   ]
  },
  {
   "cell_type": "code",
   "execution_count": 22,
   "id": "51c913a6-33f2-4c33-b473-0b3d104c2a0f",
   "metadata": {
    "tags": []
   },
   "outputs": [
    {
     "data": {
      "text/plain": [
       "Index(['Step', 'exp_iid - test/acc', 'exp_iid - test/acc__MIN',\n",
       "       'exp_iid - test/acc__MAX'],\n",
       "      dtype='object')"
      ]
     },
     "execution_count": 22,
     "metadata": {},
     "output_type": "execute_result"
    }
   ],
   "source": [
    "df_iid600e1.columns"
   ]
  },
  {
   "cell_type": "code",
   "execution_count": 18,
   "id": "fd591685-a258-49f3-8c7b-26189996f2ba",
   "metadata": {
    "tags": []
   },
   "outputs": [
    {
     "data": {
      "text/html": [
       "<div>\n",
       "<style scoped>\n",
       "    .dataframe tbody tr th:only-of-type {\n",
       "        vertical-align: middle;\n",
       "    }\n",
       "\n",
       "    .dataframe tbody tr th {\n",
       "        vertical-align: top;\n",
       "    }\n",
       "\n",
       "    .dataframe thead th {\n",
       "        text-align: right;\n",
       "    }\n",
       "</style>\n",
       "<table border=\"1\" class=\"dataframe\">\n",
       "  <thead>\n",
       "    <tr style=\"text-align: right;\">\n",
       "      <th></th>\n",
       "      <th>Step</th>\n",
       "      <th>ex_iid - test/acc</th>\n",
       "      <th>ex_iid - test/acc__MIN</th>\n",
       "      <th>ex_iid - test/acc__MAX</th>\n",
       "    </tr>\n",
       "  </thead>\n",
       "  <tbody>\n",
       "    <tr>\n",
       "      <th>0</th>\n",
       "      <td>0</td>\n",
       "      <td>0.3451</td>\n",
       "      <td>0.3451</td>\n",
       "      <td>0.3451</td>\n",
       "    </tr>\n",
       "    <tr>\n",
       "      <th>1</th>\n",
       "      <td>1</td>\n",
       "      <td>0.5637</td>\n",
       "      <td>0.5637</td>\n",
       "      <td>0.5637</td>\n",
       "    </tr>\n",
       "    <tr>\n",
       "      <th>2</th>\n",
       "      <td>2</td>\n",
       "      <td>0.6613</td>\n",
       "      <td>0.6613</td>\n",
       "      <td>0.6613</td>\n",
       "    </tr>\n",
       "    <tr>\n",
       "      <th>3</th>\n",
       "      <td>3</td>\n",
       "      <td>0.7176</td>\n",
       "      <td>0.7176</td>\n",
       "      <td>0.7176</td>\n",
       "    </tr>\n",
       "    <tr>\n",
       "      <th>4</th>\n",
       "      <td>4</td>\n",
       "      <td>0.7197</td>\n",
       "      <td>0.7197</td>\n",
       "      <td>0.7197</td>\n",
       "    </tr>\n",
       "  </tbody>\n",
       "</table>\n",
       "</div>"
      ],
      "text/plain": [
       "   Step  ex_iid - test/acc  ex_iid - test/acc__MIN  ex_iid - test/acc__MAX\n",
       "0     0             0.3451                  0.3451                  0.3451\n",
       "1     1             0.5637                  0.5637                  0.5637\n",
       "2     2             0.6613                  0.6613                  0.6613\n",
       "3     3             0.7176                  0.7176                  0.7176\n",
       "4     4             0.7197                  0.7197                  0.7197"
      ]
     },
     "execution_count": 18,
     "metadata": {},
     "output_type": "execute_result"
    }
   ],
   "source": [
    "df_iid10e1.head()"
   ]
  },
  {
   "cell_type": "code",
   "execution_count": 19,
   "id": "26b1e1f3-ebfc-4ac8-92ed-67d1701b9729",
   "metadata": {
    "tags": []
   },
   "outputs": [
    {
     "data": {
      "text/plain": [
       "(0.3451, 0.9902)"
      ]
     },
     "execution_count": 19,
     "metadata": {},
     "output_type": "execute_result"
    }
   ],
   "source": [
    "df_iid10e1['ex_iid - test/acc'].min(), df_iid10e1['ex_iid - test/acc__MAX'].max()"
   ]
  },
  {
   "cell_type": "code",
   "execution_count": null,
   "id": "5f7aa19d-b2eb-4dae-b0cc-891040b6ab66",
   "metadata": {
    "tags": []
   },
   "outputs": [],
   "source": []
  },
  {
   "cell_type": "code",
   "execution_count": 26,
   "id": "56d14d88-cab9-42d5-990d-633b52a94877",
   "metadata": {
    "tags": []
   },
   "outputs": [
    {
     "data": {
      "image/png": "[encoded data removed]",
      "text/plain": [
       "<Figure size 600x600 with 1 Axes>"
      ]
     },
     "metadata": {},
     "output_type": "display_data"
    }
   ],
   "source": [
    "plt.figure(figsize=(6,6), tight_layout=True)\n",
    "\n",
    "p1 = df_iid10e1['ex_iid - test/acc__MAX']\n",
    "p2 = df_iid10e5['ex_iid - test/acc__MAX']\n",
    "p3 = df_iid10e20['ex_iid - test/acc__MAX']\n",
    "\n",
    "p4 = df_iid50e1['ex_iid - test/acc__MAX']\n",
    "p5 = df_iid50e5['ex_iid - test/acc__MAX']\n",
    "p6 = df_iid50e20['ex_iid - test/acc__MAX']\n",
    "\n",
    "p7 = df_iid600e1['exp_iid - test/acc__MAX']\n",
    "p8 = df_iid600e5['ex_iid - test/acc__MAX']\n",
    "p9 = df_iid600e20['ex_iid - test/acc__MAX']\n",
    "\n",
    "plt.plot(p1, marker='',color='red', linewidth=1, linestyle='solid')\n",
    "plt.plot(p2, marker='', color='red', linewidth=1, linestyle='dashed')\n",
    "plt.plot(p3, marker='', color='red', linewidth=1, linestyle='dotted')\n",
    "\n",
    "plt.plot(p4, marker='', color='orange', linewidth=1, linestyle='solid')\n",
    "plt.plot(p5, marker='', color='orange', linewidth=1, linestyle='dashed')\n",
    "plt.plot(p6, marker='', color='orange', linewidth=1, linestyle='dotted')\n",
    "\n",
    "plt.plot(p7, marker='', color='blue', linewidth=1, linestyle='solid')\n",
    "plt.plot(p8, marker='', color='blue', linewidth=1, linestyle='dashed')\n",
    "plt.plot(p9, marker='', color='blue', linewidth=1, linestyle='dotted')\n",
    "\n",
    "plt.xlabel('Communication Rounds')\n",
    "plt.ylabel('Test Accuracy')\n",
    "plt.legend(title='', title_fontsize = 13, labels=[\"B=10, E=1\",\"B=10, E=5\",\"B=10, E=20\",\"B=50, E=1\",\"B=50, E=5\",\"B=50, E=20\", \"B=600, E=1\", \"B=600, E=5\",\"B=600, E=20\"])\n",
    "plt.title(\"MNIST CNN IID\")\n",
    "#plt.xticks(fontsize=12)\n",
    "#plt.yticks(fontsize=12)\n",
    "plt.show()"
   ]
  },
  {
   "cell_type": "code",
   "execution_count": null,
   "id": "22825b49-d7c3-42c5-ae7b-050ba68f37f2",
   "metadata": {
    "tags": []
   },
   "outputs": [],
   "source": []
  },
  {
   "cell_type": "code",
   "execution_count": null,
   "id": "41584bfc-5097-40a2-bd8d-8e73d819bcf6",
   "metadata": {
    "tags": []
   },
   "outputs": [],
   "source": []
  },
  {
   "cell_type": "code",
   "execution_count": null,
   "id": "e48067ca-2dd0-4b58-bb00-909de2f61b71",
   "metadata": {
    "tags": []
   },
   "outputs": [],
   "source": []
  },
  {
   "cell_type": "code",
   "execution_count": null,
   "id": "4758a3d7-4b4f-4673-ad80-6da1533b40eb",
   "metadata": {
    "tags": []
   },
   "outputs": [],
   "source": []
  },
  {
   "cell_type": "code",
   "execution_count": null,
   "id": "81972739-d7a8-47e5-9891-2b06f70cf699",
   "metadata": {
    "tags": []
   },
   "outputs": [],
   "source": []
  },
  {
   "cell_type": "code",
   "execution_count": null,
   "id": "860fc54f-4773-4c59-8464-ab1378444f4d",
   "metadata": {},
   "outputs": [],
   "source": []
  }
 ],
 "metadata": {
  "kernelspec": {
   "display_name": "Python 3 (ipykernel)",
   "language": "python",
   "name": "python3"
  },
  "language_info": {
   "codemirror_mode": {
    "name": "ipython",
    "version": 3
   },
   "file_extension": ".py",
   "mimetype": "text/x-python",
   "name": "python",
   "nbconvert_exporter": "python",
   "pygments_lexer": "ipython3",
   "version": "3.8.16"
  }
 },
 "nbformat": 4,
 "nbformat_minor": 5
}
